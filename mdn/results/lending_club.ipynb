{
 "cells": [
  {
   "cell_type": "code",
   "execution_count": 1,
   "id": "dce771b3",
   "metadata": {},
   "outputs": [],
   "source": [
    "import pickle\n",
    "from statistics import mean \n",
    "import collections"
   ]
  },
  {
   "cell_type": "code",
   "execution_count": 2,
   "id": "bcc9284f",
   "metadata": {},
   "outputs": [],
   "source": [
    "data = 'lending_club'\n",
    "method = 'mdn'"
   ]
  },
  {
   "cell_type": "code",
   "execution_count": 3,
   "id": "8f48bb49",
   "metadata": {},
   "outputs": [],
   "source": [
    "from sklearn.preprocessing import MinMaxScaler\n",
    "\n",
    "# function to scale the values\n",
    "def scale_values(input_list, feature_range=(0, 1)):\n",
    "    # Reshape the input list to a 2D array for MinMaxScaler\n",
    "    values_2d = [[value] for value in input_list]\n",
    "\n",
    "    # Initialize the MinMaxScaler with the specified feature range\n",
    "    scaler = MinMaxScaler(feature_range=feature_range)\n",
    "\n",
    "    # Fit and transform the data using the scaler\n",
    "    scaled_values = scaler.fit_transform(values_2d)\n",
    "\n",
    "    # Extract the scaled values from the 2D array and return as a list\n",
    "    scaled_list = [scaled_value[0] for scaled_value in scaled_values]\n",
    "\n",
    "    return scaled_list"
   ]
  },
  {
   "cell_type": "code",
   "execution_count": 4,
   "id": "7746dc22",
   "metadata": {},
   "outputs": [],
   "source": [
    "with open(data+'_'+method+'.pickle', 'rb') as f:\n",
    "    results = pickle.load(f)"
   ]
  },
  {
   "cell_type": "code",
   "execution_count": 5,
   "id": "d45769d5",
   "metadata": {},
   "outputs": [
    {
     "data": {
      "text/plain": [
       "5"
      ]
     },
     "execution_count": 5,
     "metadata": {},
     "output_type": "execute_result"
    }
   ],
   "source": [
    "len(results)"
   ]
  },
  {
   "cell_type": "code",
   "execution_count": 6,
   "id": "0863878a",
   "metadata": {},
   "outputs": [],
   "source": [
    "#print(results[0])"
   ]
  },
  {
   "cell_type": "code",
   "execution_count": 7,
   "id": "9f4d7692",
   "metadata": {},
   "outputs": [],
   "source": [
    "sf_query = []\n",
    "sf_nh_knn = []\n",
    "sf_nun_knn = []\n",
    "sf_nun = []\n",
    "mahalanobis = []\n",
    "sparsity = []\n",
    "ood_distance = []\n",
    "trust_score = []\n",
    "lipschitz = []"
   ]
  },
  {
   "cell_type": "code",
   "execution_count": 8,
   "id": "765ae0ee",
   "metadata": {},
   "outputs": [],
   "source": [
    "for item in results:\n",
    "    sf_query.append(item['sf_query'])\n",
    "    sf_nun.append(item['sf_nun'])\n",
    "    mahalanobis.append(item['mahalanobis'])\n",
    "    sparsity.append(item['sparsity'])\n",
    "    ood_distance.append(item['ood_distance'])\n",
    "    trust_score.append(item['trust_score'])\n",
    "    lipschitz.append(item['lipschitz'])"
   ]
  },
  {
   "cell_type": "code",
   "execution_count": 9,
   "id": "2d02c2b3",
   "metadata": {},
   "outputs": [],
   "source": [
    "sf_query = [x for xs in sf_query for x in xs]\n",
    "sf_nun = [x for xs in sf_nun for x in xs]\n",
    "mahalanobis = [x for xs in mahalanobis for x in xs]\n",
    "sparsity = [x for xs in sparsity for x in xs]\n",
    "ood_distance = [x for xs in ood_distance for x in xs]\n",
    "trust_score = [x for xs in trust_score for x in xs]\n",
    "# filter trust score\n",
    "trust_score = [value for value in trust_score if value <= 100]\n",
    "trust_score_sc = scale_values(trust_score)\n",
    "lipschitz = [x for xs in lipschitz for x in xs]\n",
    "lipschitz_sc = scale_values(lipschitz)"
   ]
  },
  {
   "cell_type": "code",
   "execution_count": 10,
   "id": "783dc68e",
   "metadata": {},
   "outputs": [],
   "source": [
    "metric_zip = zip(sf_query, sf_nun, sparsity, ood_distance, trust_score_sc, lipschitz_sc)"
   ]
  },
  {
   "cell_type": "code",
   "execution_count": 11,
   "id": "6416f3dd",
   "metadata": {},
   "outputs": [],
   "source": [
    "unitary = []\n",
    "\n",
    "# create unitary metric by combining the metrics in a relevant way\n",
    "for sf_q, sf_n, sp, ood, ts, lips in metric_zip:\n",
    "    \n",
    "    if (sp == 0):\n",
    "        val = sf_q + 0 + ts + (1-ood) + (1-lips)\n",
    "    else:\n",
    "        val = sf_q + (1/sp) + ts +(1-ood) + (1-lips)\n",
    "    \n",
    "    unitary.append(val)"
   ]
  },
  {
   "cell_type": "code",
   "execution_count": 12,
   "id": "ca2e4661",
   "metadata": {},
   "outputs": [
    {
     "data": {
      "text/plain": [
       "2.5939453216966264"
      ]
     },
     "execution_count": 12,
     "metadata": {},
     "output_type": "execute_result"
    }
   ],
   "source": [
    "unitary = mean(unitary)\n",
    "unitary"
   ]
  },
  {
   "cell_type": "code",
   "execution_count": 13,
   "id": "f5ca7799",
   "metadata": {},
   "outputs": [
    {
     "data": {
      "text/plain": [
       "0.285976916013456"
      ]
     },
     "execution_count": 13,
     "metadata": {},
     "output_type": "execute_result"
    }
   ],
   "source": [
    "sf_query = mean(sf_query)\n",
    "sf_query"
   ]
  },
  {
   "cell_type": "code",
   "execution_count": 26,
   "id": "c5c1c318",
   "metadata": {},
   "outputs": [
    {
     "data": {
      "text/plain": [
       "0.29190824882707983"
      ]
     },
     "execution_count": 26,
     "metadata": {},
     "output_type": "execute_result"
    }
   ],
   "source": [
    "sf_nun = mean(sf_nun)\n",
    "sf_nun"
   ]
  },
  {
   "cell_type": "code",
   "execution_count": 27,
   "id": "e24bf052",
   "metadata": {},
   "outputs": [
    {
     "data": {
      "text/plain": [
       "2.5472423933764503"
      ]
     },
     "execution_count": 27,
     "metadata": {},
     "output_type": "execute_result"
    }
   ],
   "source": [
    "mahalanobis = mean(mahalanobis)\n",
    "mahalanobis"
   ]
  },
  {
   "cell_type": "code",
   "execution_count": 28,
   "id": "b7ce0bd5",
   "metadata": {},
   "outputs": [
    {
     "data": {
      "text/plain": [
       "0.023240185951932873"
      ]
     },
     "execution_count": 28,
     "metadata": {},
     "output_type": "execute_result"
    }
   ],
   "source": [
    "ood_distance = mean(ood_distance)\n",
    "ood_distance"
   ]
  },
  {
   "cell_type": "code",
   "execution_count": 29,
   "id": "56c94fe6",
   "metadata": {},
   "outputs": [
    {
     "data": {
      "text/plain": [
       "3.2715529523063775"
      ]
     },
     "execution_count": 29,
     "metadata": {},
     "output_type": "execute_result"
    }
   ],
   "source": [
    "trust_score = mean(trust_score)\n",
    "trust_score"
   ]
  },
  {
   "cell_type": "code",
   "execution_count": 30,
   "id": "2cce4603",
   "metadata": {},
   "outputs": [
    {
     "data": {
      "text/plain": [
       "0.03214374519167509"
      ]
     },
     "execution_count": 30,
     "metadata": {},
     "output_type": "execute_result"
    }
   ],
   "source": [
    "trust_score_sc = mean(trust_score_sc)\n",
    "trust_score_sc"
   ]
  },
  {
   "cell_type": "code",
   "execution_count": 31,
   "id": "3ae90b18",
   "metadata": {},
   "outputs": [
    {
     "data": {
      "text/plain": [
       "23.614553335877222"
      ]
     },
     "execution_count": 31,
     "metadata": {},
     "output_type": "execute_result"
    }
   ],
   "source": [
    "lipschitz = mean(lipschitz)\n",
    "lipschitz"
   ]
  },
  {
   "cell_type": "code",
   "execution_count": 32,
   "id": "0b9c252d",
   "metadata": {},
   "outputs": [
    {
     "data": {
      "text/plain": [
       "0.05100769583370379"
      ]
     },
     "execution_count": 32,
     "metadata": {},
     "output_type": "execute_result"
    }
   ],
   "source": [
    "lipschitz_sc = mean(lipschitz_sc)\n",
    "lipschitz_sc"
   ]
  },
  {
   "cell_type": "code",
   "execution_count": 35,
   "id": "2a9869a1",
   "metadata": {},
   "outputs": [
    {
     "data": {
      "text/plain": [
       "0.35035"
      ]
     },
     "execution_count": 35,
     "metadata": {},
     "output_type": "execute_result"
    }
   ],
   "source": [
    "sp = sparsity.copy()\n",
    "sp = [1/val if val>0 else 0 for val in sp]\n",
    "mean(sp)"
   ]
  },
  {
   "cell_type": "code",
   "execution_count": 21,
   "id": "bebd36cb",
   "metadata": {},
   "outputs": [
    {
     "data": {
      "text/plain": [
       "Counter({3: 454, 4: 287, 2: 207, 1: 17, 5: 33, 6: 1, 0: 1})"
      ]
     },
     "execution_count": 21,
     "metadata": {},
     "output_type": "execute_result"
    }
   ],
   "source": [
    "sparse = collections.Counter(sparsity)\n",
    "sparse"
   ]
  },
  {
   "cell_type": "code",
   "execution_count": 22,
   "id": "efc352fe",
   "metadata": {},
   "outputs": [
    {
     "data": {
      "text/plain": [
       "{'1': 17, '2': 207, '3+': 775}"
      ]
     },
     "execution_count": 22,
     "metadata": {},
     "output_type": "execute_result"
    }
   ],
   "source": [
    "new_dict = {}\n",
    "three = 0\n",
    "one = 0\n",
    "two = 0\n",
    "for key in sparse:\n",
    "    if key>=3:\n",
    "        three += sparse[key]\n",
    "    elif key == 1:\n",
    "        one = sparse[key]\n",
    "    elif key == 2:\n",
    "        two = sparse[key]\n",
    "\n",
    "new_dict['1'] = one\n",
    "new_dict['2'] = two\n",
    "new_dict['3+'] = three\n",
    "\n",
    "new_dict"
   ]
  },
  {
   "cell_type": "code",
   "execution_count": 23,
   "id": "e3c9caf3",
   "metadata": {},
   "outputs": [
    {
     "data": {
      "text/plain": [
       "{'1': 1.7017017017017018, '2': 20.72072072072072, '3+': 77.57757757757757}"
      ]
     },
     "execution_count": 23,
     "metadata": {},
     "output_type": "execute_result"
    }
   ],
   "source": [
    "new_dict_p = {}\n",
    "\n",
    "new_dict_p['1'] = (new_dict['1']/(new_dict['1']+new_dict['2']+new_dict['3+']))*100\n",
    "new_dict_p['2'] = (new_dict['2']/(new_dict['1']+new_dict['2']+new_dict['3+']))*100\n",
    "new_dict_p['3+'] = (new_dict['3+']/(new_dict['1']+new_dict['2']+new_dict['3+']))*100\n",
    "\n",
    "new_dict_p"
   ]
  },
  {
   "cell_type": "code",
   "execution_count": null,
   "id": "e6a5e695",
   "metadata": {},
   "outputs": [],
   "source": []
  }
 ],
 "metadata": {
  "kernelspec": {
   "display_name": "research",
   "language": "python",
   "name": "tensorflow"
  },
  "language_info": {
   "codemirror_mode": {
    "name": "ipython",
    "version": 3
   },
   "file_extension": ".py",
   "mimetype": "text/x-python",
   "name": "python",
   "nbconvert_exporter": "python",
   "pygments_lexer": "ipython3",
   "version": "3.9.13"
  }
 },
 "nbformat": 4,
 "nbformat_minor": 5
}
