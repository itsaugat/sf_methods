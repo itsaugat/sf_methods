{
 "cells": [
  {
   "cell_type": "code",
   "execution_count": 1,
   "id": "0f60bf2e",
   "metadata": {},
   "outputs": [],
   "source": [
    "import pandas as pd\n",
    "import numpy as np\n",
    "from sklearn.preprocessing import MinMaxScaler, StandardScaler\n",
    "from sklearn.compose import make_column_selector as selector\n",
    "from cat_to_num import map_cat_to_num, cat_num_embed"
   ]
  },
  {
   "cell_type": "code",
   "execution_count": 2,
   "id": "9ccf2f5b",
   "metadata": {},
   "outputs": [],
   "source": [
    "data = 'blood_alcohol'\n",
    "df = pd.read_csv('../datasets/'+data+'.csv')"
   ]
  },
  {
   "cell_type": "code",
   "execution_count": 3,
   "id": "5cbe76e2",
   "metadata": {},
   "outputs": [
    {
     "data": {
      "text/html": [
       "<div>\n",
       "<style scoped>\n",
       "    .dataframe tbody tr th:only-of-type {\n",
       "        vertical-align: middle;\n",
       "    }\n",
       "\n",
       "    .dataframe tbody tr th {\n",
       "        vertical-align: top;\n",
       "    }\n",
       "\n",
       "    .dataframe thead th {\n",
       "        text-align: right;\n",
       "    }\n",
       "</style>\n",
       "<table border=\"1\" class=\"dataframe\">\n",
       "  <thead>\n",
       "    <tr style=\"text-align: right;\">\n",
       "      <th></th>\n",
       "      <th>gender</th>\n",
       "      <th>meal</th>\n",
       "      <th>units_consumed</th>\n",
       "      <th>weight</th>\n",
       "      <th>duration</th>\n",
       "      <th>class</th>\n",
       "    </tr>\n",
       "  </thead>\n",
       "  <tbody>\n",
       "    <tr>\n",
       "      <th>0</th>\n",
       "      <td>Male</td>\n",
       "      <td>No</td>\n",
       "      <td>4.0</td>\n",
       "      <td>79.0</td>\n",
       "      <td>122.0</td>\n",
       "      <td>0</td>\n",
       "    </tr>\n",
       "    <tr>\n",
       "      <th>1</th>\n",
       "      <td>Male</td>\n",
       "      <td>No</td>\n",
       "      <td>5.0</td>\n",
       "      <td>74.0</td>\n",
       "      <td>110.0</td>\n",
       "      <td>1</td>\n",
       "    </tr>\n",
       "    <tr>\n",
       "      <th>2</th>\n",
       "      <td>Male</td>\n",
       "      <td>No</td>\n",
       "      <td>5.0</td>\n",
       "      <td>75.0</td>\n",
       "      <td>74.0</td>\n",
       "      <td>1</td>\n",
       "    </tr>\n",
       "    <tr>\n",
       "      <th>3</th>\n",
       "      <td>Male</td>\n",
       "      <td>Yes</td>\n",
       "      <td>4.0</td>\n",
       "      <td>83.0</td>\n",
       "      <td>119.0</td>\n",
       "      <td>0</td>\n",
       "    </tr>\n",
       "    <tr>\n",
       "      <th>4</th>\n",
       "      <td>Male</td>\n",
       "      <td>No</td>\n",
       "      <td>8.0</td>\n",
       "      <td>76.0</td>\n",
       "      <td>85.0</td>\n",
       "      <td>1</td>\n",
       "    </tr>\n",
       "  </tbody>\n",
       "</table>\n",
       "</div>"
      ],
      "text/plain": [
       "  gender meal  units_consumed  weight  duration  class\n",
       "0   Male   No             4.0    79.0     122.0      0\n",
       "1   Male   No             5.0    74.0     110.0      1\n",
       "2   Male   No             5.0    75.0      74.0      1\n",
       "3   Male  Yes             4.0    83.0     119.0      0\n",
       "4   Male   No             8.0    76.0      85.0      1"
      ]
     },
     "execution_count": 3,
     "metadata": {},
     "output_type": "execute_result"
    }
   ],
   "source": [
    "df.head()"
   ]
  },
  {
   "cell_type": "code",
   "execution_count": 4,
   "id": "3d30fa1a",
   "metadata": {},
   "outputs": [],
   "source": [
    "# change the labels so that the positive label (under the limit) is 1\n",
    "df = df.replace({'class': {0: 1, 1: 0}})"
   ]
  },
  {
   "cell_type": "code",
   "execution_count": 5,
   "id": "4e825991",
   "metadata": {},
   "outputs": [],
   "source": [
    "target = 'class'"
   ]
  },
  {
   "cell_type": "code",
   "execution_count": 6,
   "id": "0d1b40e3",
   "metadata": {},
   "outputs": [],
   "source": [
    "distance_metric = 'm_estimate'"
   ]
  },
  {
   "cell_type": "code",
   "execution_count": 7,
   "id": "51186129",
   "metadata": {},
   "outputs": [],
   "source": [
    "y = np.array(df[target])"
   ]
  },
  {
   "cell_type": "code",
   "execution_count": 8,
   "id": "5f167d9f",
   "metadata": {},
   "outputs": [],
   "source": [
    "# select numerical and categorical data\n",
    "df_sub = df.loc[:, df.columns != target]\n",
    "\n",
    "numerical_columns_selector = selector(dtype_exclude=object)\n",
    "categorical_columns_selector = selector(dtype_include=object)\n",
    "\n",
    "num_cols = numerical_columns_selector(df_sub)\n",
    "cat_cols = categorical_columns_selector(df_sub)\n",
    "\n",
    "num_idx = [df.columns.get_loc(col) for col in num_cols]\n",
    "cat_idx = [df.columns.get_loc(col) for col in cat_cols]"
   ]
  },
  {
   "cell_type": "code",
   "execution_count": 9,
   "id": "ff989270",
   "metadata": {},
   "outputs": [
    {
     "name": "stdout",
     "output_type": "stream",
     "text": [
      "['units_consumed', 'weight', 'duration']\n",
      "['gender', 'meal']\n",
      "[2, 3, 4]\n",
      "[0, 1]\n"
     ]
    }
   ],
   "source": [
    "print(num_cols)\n",
    "print(cat_cols)\n",
    "print(num_idx)\n",
    "print(cat_idx)"
   ]
  },
  {
   "cell_type": "code",
   "execution_count": 10,
   "id": "580c6710",
   "metadata": {},
   "outputs": [],
   "source": [
    "cols = list(df_sub.columns)"
   ]
  },
  {
   "cell_type": "code",
   "execution_count": 11,
   "id": "1cb3fd3d",
   "metadata": {},
   "outputs": [
    {
     "data": {
      "text/plain": [
       "{0: {'Male': 0.17003484848484848, 'Female': 0.49538982213438737},\n",
       " 1: {'Yes': 0.3140204795204795, 'No': 0.35497952047952047}}"
      ]
     },
     "execution_count": 11,
     "metadata": {},
     "output_type": "execute_result"
    }
   ],
   "source": [
    "# get numerical embeddings of categorical variables\n",
    "cat_embed = cat_num_embed(df, target, distance_metric)\n",
    "cat_embed"
   ]
  },
  {
   "cell_type": "code",
   "execution_count": 12,
   "id": "7c44ccc8",
   "metadata": {},
   "outputs": [
    {
     "data": {
      "text/html": [
       "<div>\n",
       "<style scoped>\n",
       "    .dataframe tbody tr th:only-of-type {\n",
       "        vertical-align: middle;\n",
       "    }\n",
       "\n",
       "    .dataframe tbody tr th {\n",
       "        vertical-align: top;\n",
       "    }\n",
       "\n",
       "    .dataframe thead th {\n",
       "        text-align: right;\n",
       "    }\n",
       "</style>\n",
       "<table border=\"1\" class=\"dataframe\">\n",
       "  <thead>\n",
       "    <tr style=\"text-align: right;\">\n",
       "      <th></th>\n",
       "      <th>gender</th>\n",
       "      <th>meal</th>\n",
       "      <th>units_consumed</th>\n",
       "      <th>weight</th>\n",
       "      <th>duration</th>\n",
       "      <th>class</th>\n",
       "    </tr>\n",
       "  </thead>\n",
       "  <tbody>\n",
       "    <tr>\n",
       "      <th>0</th>\n",
       "      <td>0.170035</td>\n",
       "      <td>0.35498</td>\n",
       "      <td>4.0</td>\n",
       "      <td>79.0</td>\n",
       "      <td>122.0</td>\n",
       "      <td>1</td>\n",
       "    </tr>\n",
       "    <tr>\n",
       "      <th>1</th>\n",
       "      <td>0.170035</td>\n",
       "      <td>0.35498</td>\n",
       "      <td>5.0</td>\n",
       "      <td>74.0</td>\n",
       "      <td>110.0</td>\n",
       "      <td>0</td>\n",
       "    </tr>\n",
       "    <tr>\n",
       "      <th>2</th>\n",
       "      <td>0.170035</td>\n",
       "      <td>0.35498</td>\n",
       "      <td>5.0</td>\n",
       "      <td>75.0</td>\n",
       "      <td>74.0</td>\n",
       "      <td>0</td>\n",
       "    </tr>\n",
       "    <tr>\n",
       "      <th>3</th>\n",
       "      <td>0.170035</td>\n",
       "      <td>0.31402</td>\n",
       "      <td>4.0</td>\n",
       "      <td>83.0</td>\n",
       "      <td>119.0</td>\n",
       "      <td>1</td>\n",
       "    </tr>\n",
       "    <tr>\n",
       "      <th>4</th>\n",
       "      <td>0.170035</td>\n",
       "      <td>0.35498</td>\n",
       "      <td>8.0</td>\n",
       "      <td>76.0</td>\n",
       "      <td>85.0</td>\n",
       "      <td>0</td>\n",
       "    </tr>\n",
       "  </tbody>\n",
       "</table>\n",
       "</div>"
      ],
      "text/plain": [
       "     gender     meal  units_consumed  weight  duration  class\n",
       "0  0.170035  0.35498             4.0    79.0     122.0      1\n",
       "1  0.170035  0.35498             5.0    74.0     110.0      0\n",
       "2  0.170035  0.35498             5.0    75.0      74.0      0\n",
       "3  0.170035  0.31402             4.0    83.0     119.0      1\n",
       "4  0.170035  0.35498             8.0    76.0      85.0      0"
      ]
     },
     "execution_count": 12,
     "metadata": {},
     "output_type": "execute_result"
    }
   ],
   "source": [
    "dataset_cp = df.copy()\n",
    "dataset_embed = map_cat_to_num(dataset_cp, target, distance_metric)\n",
    "dataset_embed.head()"
   ]
  },
  {
   "cell_type": "code",
   "execution_count": 13,
   "id": "4b72df23",
   "metadata": {},
   "outputs": [],
   "source": [
    "# transformer for numerical values\n",
    "transformer = MinMaxScaler()\n",
    "\n",
    "# normalize the dataset\n",
    "x_sc = np.array(df_sub)\n",
    "# normalize categorical feature values\n",
    "for item in x_sc:\n",
    "    for idx in cat_idx:\n",
    "        item[idx] = float(cat_embed[idx][item[idx]])\n",
    "\n",
    "# convert numpy array to df for normalizing numerical features\n",
    "df_sc = pd.DataFrame(x_sc, columns=cols)\n",
    "# normalize numerical feature values\n",
    "df_sc[num_cols] = transformer.fit_transform(df_sc[num_cols])\n",
    "df_sc[target] = y"
   ]
  },
  {
   "cell_type": "code",
   "execution_count": 14,
   "id": "08eb49be",
   "metadata": {},
   "outputs": [
    {
     "data": {
      "text/html": [
       "<div>\n",
       "<style scoped>\n",
       "    .dataframe tbody tr th:only-of-type {\n",
       "        vertical-align: middle;\n",
       "    }\n",
       "\n",
       "    .dataframe tbody tr th {\n",
       "        vertical-align: top;\n",
       "    }\n",
       "\n",
       "    .dataframe thead th {\n",
       "        text-align: right;\n",
       "    }\n",
       "</style>\n",
       "<table border=\"1\" class=\"dataframe\">\n",
       "  <thead>\n",
       "    <tr style=\"text-align: right;\">\n",
       "      <th></th>\n",
       "      <th>gender</th>\n",
       "      <th>meal</th>\n",
       "      <th>units_consumed</th>\n",
       "      <th>weight</th>\n",
       "      <th>duration</th>\n",
       "      <th>class</th>\n",
       "    </tr>\n",
       "  </thead>\n",
       "  <tbody>\n",
       "    <tr>\n",
       "      <th>0</th>\n",
       "      <td>0.170035</td>\n",
       "      <td>0.35498</td>\n",
       "      <td>0.272727</td>\n",
       "      <td>0.513158</td>\n",
       "      <td>0.691729</td>\n",
       "      <td>1</td>\n",
       "    </tr>\n",
       "    <tr>\n",
       "      <th>1</th>\n",
       "      <td>0.170035</td>\n",
       "      <td>0.35498</td>\n",
       "      <td>0.363636</td>\n",
       "      <td>0.447368</td>\n",
       "      <td>0.601504</td>\n",
       "      <td>0</td>\n",
       "    </tr>\n",
       "    <tr>\n",
       "      <th>2</th>\n",
       "      <td>0.170035</td>\n",
       "      <td>0.35498</td>\n",
       "      <td>0.363636</td>\n",
       "      <td>0.460526</td>\n",
       "      <td>0.330827</td>\n",
       "      <td>0</td>\n",
       "    </tr>\n",
       "    <tr>\n",
       "      <th>3</th>\n",
       "      <td>0.170035</td>\n",
       "      <td>0.31402</td>\n",
       "      <td>0.272727</td>\n",
       "      <td>0.565789</td>\n",
       "      <td>0.669173</td>\n",
       "      <td>1</td>\n",
       "    </tr>\n",
       "    <tr>\n",
       "      <th>4</th>\n",
       "      <td>0.170035</td>\n",
       "      <td>0.35498</td>\n",
       "      <td>0.636364</td>\n",
       "      <td>0.473684</td>\n",
       "      <td>0.413534</td>\n",
       "      <td>0</td>\n",
       "    </tr>\n",
       "  </tbody>\n",
       "</table>\n",
       "</div>"
      ],
      "text/plain": [
       "     gender     meal  units_consumed    weight  duration  class\n",
       "0  0.170035  0.35498        0.272727  0.513158  0.691729      1\n",
       "1  0.170035  0.35498        0.363636  0.447368  0.601504      0\n",
       "2  0.170035  0.35498        0.363636  0.460526  0.330827      0\n",
       "3  0.170035  0.31402        0.272727  0.565789  0.669173      1\n",
       "4  0.170035  0.35498        0.636364  0.473684  0.413534      0"
      ]
     },
     "execution_count": 14,
     "metadata": {},
     "output_type": "execute_result"
    }
   ],
   "source": [
    "df_sc.head()"
   ]
  },
  {
   "cell_type": "code",
   "execution_count": 15,
   "id": "3ba721c3",
   "metadata": {},
   "outputs": [],
   "source": [
    "df_sc.to_csv('../datasets/sf/'+data+'_sc.csv', index=False)"
   ]
  },
  {
   "cell_type": "code",
   "execution_count": 16,
   "id": "50d0fbf6",
   "metadata": {},
   "outputs": [],
   "source": [
    "label_dict = {}\n",
    "for key, inner_dict in cat_embed.items():\n",
    "    label_dict[key] = {sub_key: i + 1 for i, (sub_key, _) in enumerate(sorted(inner_dict.items(), key=lambda x: x[1]))}"
   ]
  },
  {
   "cell_type": "code",
   "execution_count": 17,
   "id": "34cca5f2",
   "metadata": {},
   "outputs": [
    {
     "data": {
      "text/plain": [
       "{0: {'Male': 1, 'Female': 2}, 1: {'Yes': 1, 'No': 2}}"
      ]
     },
     "execution_count": 17,
     "metadata": {},
     "output_type": "execute_result"
    }
   ],
   "source": [
    "label_dict"
   ]
  },
  {
   "cell_type": "code",
   "execution_count": 18,
   "id": "07f924fc",
   "metadata": {},
   "outputs": [],
   "source": [
    "df_label = df.copy()\n",
    "for idx in cat_idx:\n",
    "    df_label.iloc[:,idx] = df_label.iloc[:,idx].replace(label_dict[idx])"
   ]
  },
  {
   "cell_type": "code",
   "execution_count": 19,
   "id": "134321ea",
   "metadata": {},
   "outputs": [
    {
     "data": {
      "text/html": [
       "<div>\n",
       "<style scoped>\n",
       "    .dataframe tbody tr th:only-of-type {\n",
       "        vertical-align: middle;\n",
       "    }\n",
       "\n",
       "    .dataframe tbody tr th {\n",
       "        vertical-align: top;\n",
       "    }\n",
       "\n",
       "    .dataframe thead th {\n",
       "        text-align: right;\n",
       "    }\n",
       "</style>\n",
       "<table border=\"1\" class=\"dataframe\">\n",
       "  <thead>\n",
       "    <tr style=\"text-align: right;\">\n",
       "      <th></th>\n",
       "      <th>gender</th>\n",
       "      <th>meal</th>\n",
       "      <th>units_consumed</th>\n",
       "      <th>weight</th>\n",
       "      <th>duration</th>\n",
       "      <th>class</th>\n",
       "    </tr>\n",
       "  </thead>\n",
       "  <tbody>\n",
       "    <tr>\n",
       "      <th>0</th>\n",
       "      <td>1</td>\n",
       "      <td>2</td>\n",
       "      <td>4.0</td>\n",
       "      <td>79.0</td>\n",
       "      <td>122.0</td>\n",
       "      <td>1</td>\n",
       "    </tr>\n",
       "    <tr>\n",
       "      <th>1</th>\n",
       "      <td>1</td>\n",
       "      <td>2</td>\n",
       "      <td>5.0</td>\n",
       "      <td>74.0</td>\n",
       "      <td>110.0</td>\n",
       "      <td>0</td>\n",
       "    </tr>\n",
       "    <tr>\n",
       "      <th>2</th>\n",
       "      <td>1</td>\n",
       "      <td>2</td>\n",
       "      <td>5.0</td>\n",
       "      <td>75.0</td>\n",
       "      <td>74.0</td>\n",
       "      <td>0</td>\n",
       "    </tr>\n",
       "    <tr>\n",
       "      <th>3</th>\n",
       "      <td>1</td>\n",
       "      <td>1</td>\n",
       "      <td>4.0</td>\n",
       "      <td>83.0</td>\n",
       "      <td>119.0</td>\n",
       "      <td>1</td>\n",
       "    </tr>\n",
       "    <tr>\n",
       "      <th>4</th>\n",
       "      <td>1</td>\n",
       "      <td>2</td>\n",
       "      <td>8.0</td>\n",
       "      <td>76.0</td>\n",
       "      <td>85.0</td>\n",
       "      <td>0</td>\n",
       "    </tr>\n",
       "  </tbody>\n",
       "</table>\n",
       "</div>"
      ],
      "text/plain": [
       "   gender  meal  units_consumed  weight  duration  class\n",
       "0       1     2             4.0    79.0     122.0      1\n",
       "1       1     2             5.0    74.0     110.0      0\n",
       "2       1     2             5.0    75.0      74.0      0\n",
       "3       1     1             4.0    83.0     119.0      1\n",
       "4       1     2             8.0    76.0      85.0      0"
      ]
     },
     "execution_count": 19,
     "metadata": {},
     "output_type": "execute_result"
    }
   ],
   "source": [
    "df_label.head()"
   ]
  },
  {
   "cell_type": "code",
   "execution_count": 20,
   "id": "792c76c7",
   "metadata": {},
   "outputs": [],
   "source": [
    "temp = df_label.loc[:, df_label.columns != target]\n",
    "x_sc = np.array(temp)\n",
    "# convert numpy array to df for normalizing numerical features\n",
    "df_label_sc = pd.DataFrame(x_sc, columns=cols)\n",
    "# normalize numerical feature values\n",
    "df_label_sc[num_cols] = transformer.fit_transform(df_label_sc[num_cols])\n",
    "df_label_sc[target] = y"
   ]
  },
  {
   "cell_type": "code",
   "execution_count": 21,
   "id": "d6723c1b",
   "metadata": {},
   "outputs": [
    {
     "data": {
      "text/html": [
       "<div>\n",
       "<style scoped>\n",
       "    .dataframe tbody tr th:only-of-type {\n",
       "        vertical-align: middle;\n",
       "    }\n",
       "\n",
       "    .dataframe tbody tr th {\n",
       "        vertical-align: top;\n",
       "    }\n",
       "\n",
       "    .dataframe thead th {\n",
       "        text-align: right;\n",
       "    }\n",
       "</style>\n",
       "<table border=\"1\" class=\"dataframe\">\n",
       "  <thead>\n",
       "    <tr style=\"text-align: right;\">\n",
       "      <th></th>\n",
       "      <th>gender</th>\n",
       "      <th>meal</th>\n",
       "      <th>units_consumed</th>\n",
       "      <th>weight</th>\n",
       "      <th>duration</th>\n",
       "      <th>class</th>\n",
       "    </tr>\n",
       "  </thead>\n",
       "  <tbody>\n",
       "    <tr>\n",
       "      <th>0</th>\n",
       "      <td>1.0</td>\n",
       "      <td>2.0</td>\n",
       "      <td>0.272727</td>\n",
       "      <td>0.513158</td>\n",
       "      <td>0.691729</td>\n",
       "      <td>1</td>\n",
       "    </tr>\n",
       "    <tr>\n",
       "      <th>1</th>\n",
       "      <td>1.0</td>\n",
       "      <td>2.0</td>\n",
       "      <td>0.363636</td>\n",
       "      <td>0.447368</td>\n",
       "      <td>0.601504</td>\n",
       "      <td>0</td>\n",
       "    </tr>\n",
       "    <tr>\n",
       "      <th>2</th>\n",
       "      <td>1.0</td>\n",
       "      <td>2.0</td>\n",
       "      <td>0.363636</td>\n",
       "      <td>0.460526</td>\n",
       "      <td>0.330827</td>\n",
       "      <td>0</td>\n",
       "    </tr>\n",
       "    <tr>\n",
       "      <th>3</th>\n",
       "      <td>1.0</td>\n",
       "      <td>1.0</td>\n",
       "      <td>0.272727</td>\n",
       "      <td>0.565789</td>\n",
       "      <td>0.669173</td>\n",
       "      <td>1</td>\n",
       "    </tr>\n",
       "    <tr>\n",
       "      <th>4</th>\n",
       "      <td>1.0</td>\n",
       "      <td>2.0</td>\n",
       "      <td>0.636364</td>\n",
       "      <td>0.473684</td>\n",
       "      <td>0.413534</td>\n",
       "      <td>0</td>\n",
       "    </tr>\n",
       "  </tbody>\n",
       "</table>\n",
       "</div>"
      ],
      "text/plain": [
       "   gender  meal  units_consumed    weight  duration  class\n",
       "0     1.0   2.0        0.272727  0.513158  0.691729      1\n",
       "1     1.0   2.0        0.363636  0.447368  0.601504      0\n",
       "2     1.0   2.0        0.363636  0.460526  0.330827      0\n",
       "3     1.0   1.0        0.272727  0.565789  0.669173      1\n",
       "4     1.0   2.0        0.636364  0.473684  0.413534      0"
      ]
     },
     "execution_count": 21,
     "metadata": {},
     "output_type": "execute_result"
    }
   ],
   "source": [
    "df_label_sc.head()"
   ]
  },
  {
   "cell_type": "code",
   "execution_count": 22,
   "id": "18b306fb",
   "metadata": {},
   "outputs": [],
   "source": [
    "df_label_sc.to_csv('../datasets/sf/'+data+'.csv', index=False)"
   ]
  },
  {
   "cell_type": "code",
   "execution_count": 21,
   "id": "ae9a52a4",
   "metadata": {},
   "outputs": [],
   "source": [
    "dict3 = {}\n",
    "for key1, value1 in cat_embed.items():\n",
    "    dict3[key1] = {}\n",
    "    for key2, value2 in label_dict[key1].items():\n",
    "        dict3[key1][value2] = value1[key2]"
   ]
  },
  {
   "cell_type": "code",
   "execution_count": 22,
   "id": "78cd9328",
   "metadata": {},
   "outputs": [
    {
     "data": {
      "text/plain": [
       "{0: {1: 0.17003484848484848, 2: 0.49538982213438737},\n",
       " 1: {1: 0.3140204795204795, 2: 0.35497952047952047}}"
      ]
     },
     "execution_count": 22,
     "metadata": {},
     "output_type": "execute_result"
    }
   ],
   "source": [
    "dict3"
   ]
  },
  {
   "cell_type": "code",
   "execution_count": null,
   "id": "b7025bcd",
   "metadata": {},
   "outputs": [],
   "source": []
  }
 ],
 "metadata": {
  "kernelspec": {
   "display_name": "research",
   "language": "python",
   "name": "tensorflow"
  },
  "language_info": {
   "codemirror_mode": {
    "name": "ipython",
    "version": 3
   },
   "file_extension": ".py",
   "mimetype": "text/x-python",
   "name": "python",
   "nbconvert_exporter": "python",
   "pygments_lexer": "ipython3",
   "version": "3.9.13"
  }
 },
 "nbformat": 4,
 "nbformat_minor": 5
}
