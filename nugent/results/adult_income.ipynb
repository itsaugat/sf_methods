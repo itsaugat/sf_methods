{
 "cells": [
  {
   "cell_type": "code",
   "execution_count": 1,
   "id": "dce771b3",
   "metadata": {},
   "outputs": [],
   "source": [
    "import pickle\n",
    "from statistics import mean \n",
    "import collections"
   ]
  },
  {
   "cell_type": "code",
   "execution_count": 2,
   "id": "7746dc22",
   "metadata": {},
   "outputs": [],
   "source": [
    "data = 'adult_income'\n",
    "method = 'nugent'"
   ]
  },
  {
   "cell_type": "code",
   "execution_count": 3,
   "id": "d45769d5",
   "metadata": {},
   "outputs": [],
   "source": [
    "with open(data+'_'+method+'.pickle', 'rb') as f:\n",
    "    results = pickle.load(f)"
   ]
  },
  {
   "cell_type": "code",
   "execution_count": 4,
   "id": "0863878a",
   "metadata": {},
   "outputs": [],
   "source": [
    "#print(results[0])"
   ]
  },
  {
   "cell_type": "code",
   "execution_count": 5,
   "id": "3c073437",
   "metadata": {},
   "outputs": [],
   "source": [
    "from sklearn.preprocessing import MinMaxScaler\n",
    "\n",
    "# function to scale the values\n",
    "def scale_values(input_list, feature_range=(0, 1)):\n",
    "    # Reshape the input list to a 2D array for MinMaxScaler\n",
    "    values_2d = [[value] for value in input_list]\n",
    "\n",
    "    # Initialize the MinMaxScaler with the specified feature range\n",
    "    scaler = MinMaxScaler(feature_range=feature_range)\n",
    "\n",
    "    # Fit and transform the data using the scaler\n",
    "    scaled_values = scaler.fit_transform(values_2d)\n",
    "\n",
    "    # Extract the scaled values from the 2D array and return as a list\n",
    "    scaled_list = [scaled_value[0] for scaled_value in scaled_values]\n",
    "\n",
    "    return scaled_list"
   ]
  },
  {
   "cell_type": "code",
   "execution_count": 6,
   "id": "0f773ce6",
   "metadata": {},
   "outputs": [],
   "source": [
    "sf_query = []\n",
    "sf_nh_knn = []\n",
    "sf_nun_knn = []\n",
    "sf_nun = []\n",
    "mahalanobis = []\n",
    "sparsity = []\n",
    "ood_distance = []\n",
    "trust_score = []\n",
    "lipschitz = []"
   ]
  },
  {
   "cell_type": "code",
   "execution_count": 7,
   "id": "279d614e",
   "metadata": {},
   "outputs": [],
   "source": [
    "for item in results:\n",
    "    sf_query.append(item['sf_query'])\n",
    "    sf_nun.append(item['sf_nun'])\n",
    "    mahalanobis.append(item['mahalanobis'])\n",
    "    sparsity.append(item['sparsity'])\n",
    "    ood_distance.append(item['ood_distance'])\n",
    "    trust_score.append(item['trust_score'])\n",
    "    lipschitz.append(item['lipschitz'])"
   ]
  },
  {
   "cell_type": "code",
   "execution_count": 8,
   "id": "c5318e55",
   "metadata": {},
   "outputs": [],
   "source": [
    "sf_query = [x for xs in sf_query for x in xs]\n",
    "sf_nun = [x for xs in sf_nun for x in xs]\n",
    "mahalanobis = [x for xs in mahalanobis for x in xs]\n",
    "sparsity = [x for xs in sparsity for x in xs]\n",
    "ood_distance = [x for xs in ood_distance for x in xs]\n",
    "trust_score = [x for xs in trust_score for x in xs]\n",
    "trust_score_sc = scale_values(trust_score)\n",
    "lipschitz = [x for xs in lipschitz for x in xs]\n",
    "lipschitz_sc = scale_values(lipschitz)"
   ]
  },
  {
   "cell_type": "code",
   "execution_count": 9,
   "id": "840d08b3",
   "metadata": {},
   "outputs": [
    {
     "data": {
      "text/plain": [
       "0.0023849038077380816"
      ]
     },
     "execution_count": 9,
     "metadata": {},
     "output_type": "execute_result"
    }
   ],
   "source": [
    "mean(lipschitz_sc)"
   ]
  },
  {
   "cell_type": "code",
   "execution_count": 9,
   "id": "5d408e68",
   "metadata": {},
   "outputs": [],
   "source": [
    "metric_zip = zip(sf_query, sf_nun, sparsity, ood_distance, trust_score_sc, lipschitz_sc)"
   ]
  },
  {
   "cell_type": "code",
   "execution_count": 10,
   "id": "e22ad317",
   "metadata": {},
   "outputs": [],
   "source": [
    "unitary = []\n",
    "\n",
    "# create unitary metric by combining the metrics in a relevant way\n",
    "for sf_q, sf_n, sp, ood, ts, lips in metric_zip:\n",
    "    \n",
    "    if (sp == 0):\n",
    "        val = sf_q + 0 + ts + (1-ood) + (1-lips)\n",
    "    else:\n",
    "        val = sf_q + (1/sp) + ts +(1-ood) + (1-lips)\n",
    "    \n",
    "    unitary.append(val)"
   ]
  },
  {
   "cell_type": "code",
   "execution_count": 11,
   "id": "64683458",
   "metadata": {},
   "outputs": [
    {
     "data": {
      "text/plain": [
       "2.524766998041823"
      ]
     },
     "execution_count": 11,
     "metadata": {},
     "output_type": "execute_result"
    }
   ],
   "source": [
    "unitary = mean(unitary)\n",
    "unitary"
   ]
  },
  {
   "cell_type": "code",
   "execution_count": 12,
   "id": "3d652c7c",
   "metadata": {},
   "outputs": [
    {
     "data": {
      "text/plain": [
       "0.3645402475995867"
      ]
     },
     "execution_count": 12,
     "metadata": {},
     "output_type": "execute_result"
    }
   ],
   "source": [
    "sf_query = mean(sf_query)\n",
    "sf_query"
   ]
  },
  {
   "cell_type": "code",
   "execution_count": 13,
   "id": "b08a8429",
   "metadata": {},
   "outputs": [
    {
     "data": {
      "text/plain": [
       "0.33397857730097097"
      ]
     },
     "execution_count": 13,
     "metadata": {},
     "output_type": "execute_result"
    }
   ],
   "source": [
    "sf_nun = mean(sf_nun)\n",
    "sf_nun"
   ]
  },
  {
   "cell_type": "code",
   "execution_count": 14,
   "id": "c37abb6c",
   "metadata": {},
   "outputs": [
    {
     "data": {
      "text/plain": [
       "3.564409913764255"
      ]
     },
     "execution_count": 14,
     "metadata": {},
     "output_type": "execute_result"
    }
   ],
   "source": [
    "mahalanobis = mean(mahalanobis)\n",
    "mahalanobis"
   ]
  },
  {
   "cell_type": "code",
   "execution_count": 15,
   "id": "180991e6",
   "metadata": {},
   "outputs": [
    {
     "data": {
      "text/plain": [
       "0.0692347661471844"
      ]
     },
     "execution_count": 15,
     "metadata": {},
     "output_type": "execute_result"
    }
   ],
   "source": [
    "ood_distance = mean(ood_distance)\n",
    "ood_distance"
   ]
  },
  {
   "cell_type": "code",
   "execution_count": 16,
   "id": "7df726f1",
   "metadata": {},
   "outputs": [
    {
     "data": {
      "text/plain": [
       "1.5006623577507363"
      ]
     },
     "execution_count": 16,
     "metadata": {},
     "output_type": "execute_result"
    }
   ],
   "source": [
    "# filter trust score\n",
    "trust_score = [value for value in trust_score if value < 100]\n",
    "trust_score = mean(trust_score)\n",
    "trust_score"
   ]
  },
  {
   "cell_type": "code",
   "execution_count": 17,
   "id": "9e81777a",
   "metadata": {},
   "outputs": [
    {
     "data": {
      "text/plain": [
       "17.472883409317784"
      ]
     },
     "execution_count": 17,
     "metadata": {},
     "output_type": "execute_result"
    }
   ],
   "source": [
    "lipschitz = mean(lipschitz)\n",
    "lipschitz"
   ]
  },
  {
   "cell_type": "code",
   "execution_count": 18,
   "id": "93e73737",
   "metadata": {},
   "outputs": [
    {
     "data": {
      "text/plain": [
       "0.19287574967758747"
      ]
     },
     "execution_count": 18,
     "metadata": {},
     "output_type": "execute_result"
    }
   ],
   "source": [
    "sp = sparsity.copy()\n",
    "sp = [1/val if val>0 else 0 for val in sp]\n",
    "mean(sp)"
   ]
  },
  {
   "cell_type": "code",
   "execution_count": 31,
   "id": "dcebab8b",
   "metadata": {},
   "outputs": [
    {
     "data": {
      "text/plain": [
       "Counter({7: 3800,\n",
       "         5: 3859,\n",
       "         6: 4502,\n",
       "         4: 2759,\n",
       "         8: 2166,\n",
       "         3: 1416,\n",
       "         2: 416,\n",
       "         9: 841,\n",
       "         10: 203,\n",
       "         11: 21,\n",
       "         1: 41})"
      ]
     },
     "execution_count": 31,
     "metadata": {},
     "output_type": "execute_result"
    }
   ],
   "source": [
    "sparse = collections.Counter(sparsity)\n",
    "sparse"
   ]
  },
  {
   "cell_type": "code",
   "execution_count": 1,
   "id": "efc352fe",
   "metadata": {},
   "outputs": [
    {
     "ename": "NameError",
     "evalue": "name 'sparse' is not defined",
     "output_type": "error",
     "traceback": [
      "\u001b[0;31m---------------------------------------------------------------------------\u001b[0m",
      "\u001b[0;31mNameError\u001b[0m                                 Traceback (most recent call last)",
      "Input \u001b[0;32mIn [1]\u001b[0m, in \u001b[0;36m<cell line: 5>\u001b[0;34m()\u001b[0m\n\u001b[1;32m      3\u001b[0m one \u001b[38;5;241m=\u001b[39m \u001b[38;5;241m0\u001b[39m\n\u001b[1;32m      4\u001b[0m two \u001b[38;5;241m=\u001b[39m \u001b[38;5;241m0\u001b[39m\n\u001b[0;32m----> 5\u001b[0m \u001b[38;5;28;01mfor\u001b[39;00m key \u001b[38;5;129;01min\u001b[39;00m \u001b[43msparse\u001b[49m:\n\u001b[1;32m      6\u001b[0m     \u001b[38;5;28;01mif\u001b[39;00m key\u001b[38;5;241m>\u001b[39m\u001b[38;5;241m=\u001b[39m\u001b[38;5;241m3\u001b[39m:\n\u001b[1;32m      7\u001b[0m         three \u001b[38;5;241m+\u001b[39m\u001b[38;5;241m=\u001b[39m sparse[key]\n",
      "\u001b[0;31mNameError\u001b[0m: name 'sparse' is not defined"
     ]
    }
   ],
   "source": [
    "new_dict = {}\n",
    "three = 0\n",
    "one = 0\n",
    "two = 0\n",
    "for key in sparse:\n",
    "    if key>=3:\n",
    "        three += sparse[key]\n",
    "    elif key == 1:\n",
    "        one = sparse[key]\n",
    "    elif key == 2:\n",
    "        two = sparse[key]\n",
    "\n",
    "new_dict['1'] = one\n",
    "new_dict['2'] = two\n",
    "new_dict['3+'] = three\n",
    "\n",
    "new_dict"
   ]
  },
  {
   "cell_type": "code",
   "execution_count": null,
   "id": "e3c9caf3",
   "metadata": {},
   "outputs": [],
   "source": [
    "new_dict_p = {}\n",
    "\n",
    "new_dict_p['1'] = (new_dict['1']/(new_dict['1']+new_dict['2']+new_dict['3+']))*100\n",
    "new_dict_p['2'] = (new_dict['2']/(new_dict['1']+new_dict['2']+new_dict['3+']))*100\n",
    "new_dict_p['3+'] = (new_dict['3+']/(new_dict['1']+new_dict['2']+new_dict['3+']))*100\n",
    "\n",
    "new_dict_p"
   ]
  },
  {
   "cell_type": "code",
   "execution_count": null,
   "id": "1fca1b7a",
   "metadata": {},
   "outputs": [],
   "source": []
  }
 ],
 "metadata": {
  "kernelspec": {
   "display_name": "research",
   "language": "python",
   "name": "tensorflow"
  },
  "language_info": {
   "codemirror_mode": {
    "name": "ipython",
    "version": 3
   },
   "file_extension": ".py",
   "mimetype": "text/x-python",
   "name": "python",
   "nbconvert_exporter": "python",
   "pygments_lexer": "ipython3",
   "version": "3.9.13"
  }
 },
 "nbformat": 4,
 "nbformat_minor": 5
}
